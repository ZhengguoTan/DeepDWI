{
 "cells": [
  {
   "cell_type": "code",
   "execution_count": 1,
   "metadata": {},
   "outputs": [],
   "source": [
    "import h5py\n",
    "\n",
    "import numpy as np\n",
    "import matplotlib.pyplot as plt\n",
    "\n",
    "import ipywidgets as widgets"
   ]
  },
  {
   "cell_type": "code",
   "execution_count": 2,
   "metadata": {},
   "outputs": [
    {
     "name": "stdout",
     "output_type": "stream",
     "text": [
      "DWI_JETS_NAVI shape:  (126, 114, 200, 200)\n",
      "DWI_ZS_SELF shape:  (42, 114, 200, 200)\n"
     ]
    }
   ],
   "source": [
    "f = h5py.File('/home/atuin/b143dc/b143dc15/Experiments/2023-09-26_Terra_Diffusion_iEPI/meas_MID00083_FID00084_Seg2_1p0_126dir_BW1086/JETS.h5', 'r')\n",
    "DWI_JETS_NAVI = f['DWI'][:]\n",
    "f.close()\n",
    "\n",
    "print('DWI_JETS_NAVI shape: ', DWI_JETS_NAVI.shape)\n",
    "\n",
    "# b1000\n",
    "f = h5py.File('/home/atuin/b143dc/b143dc15/Softwares/DeepDWI/examples/2024-08-07_zsssl_1.0mm_126-dir_R3x3_kdat_slice_000_norm-kdat-1.0_self_ResNet2D_ResBlock-12_kernel-3_ADMM_08_lamda-0.050_Adam_lr-0.000500_MixL1L2Loss/zsssl_test_shot-retro-0.h5', 'r')\n",
    "DWI_ZS_SELF = f['DWI'][:]\n",
    "f.close()\n",
    "\n",
    "# b3000\n",
    "# f = h5py.File('/home/atuin/b143dc/b143dc15/Softwares/DeepDWI/examples/2024-08-03_zsssl_1.0mm_126-dir_R3x3_kdat_slice_000_norm-kdat-1.0_self_ResNet2D_ResBlock-12_kernel-3_ADMM_08_lamda-0.050_Adam_lr-0.000500_MixL1L2Loss/zsssl_test_shot-retro-0.h5', 'r')\n",
    "# DWI_ZS_SELF = f['DWI'][:]\n",
    "# f.close()\n",
    "\n",
    "print('DWI_ZS_SELF shape: ', DWI_ZS_SELF.shape)"
   ]
  },
  {
   "cell_type": "code",
   "execution_count": 4,
   "metadata": {},
   "outputs": [],
   "source": [
    "N_diff_all = DWI_JETS_NAVI.shape[0]\n",
    "N_diff_prt = DWI_ZS_SELF.shape[0]"
   ]
  },
  {
   "cell_type": "markdown",
   "metadata": {},
   "source": [
    "### b1000 vs b3000"
   ]
  },
  {
   "cell_type": "code",
   "execution_count": 6,
   "metadata": {},
   "outputs": [
    {
     "data": {
      "application/vnd.jupyter.widget-view+json": {
       "model_id": "3a179adc1a6b41ada2eea7768e152cae",
       "version_major": 2,
       "version_minor": 0
      },
      "text/plain": [
       "interactive(children=(IntSlider(value=0, description='slice_idx', max=113), IntSlider(value=0, description='di…"
      ]
     },
     "metadata": {},
     "output_type": "display_data"
    }
   ],
   "source": [
    "slice_slider = widgets.IntSlider(min=0, max=DWI_JETS_NAVI.shape[-3] - 1, step=1, value=0)\n",
    "\n",
    "diff_slider = widgets.IntSlider(min=0, max=DWI_JETS_NAVI.shape[-4] - 1, step=1, value=0)\n",
    "\n",
    "@widgets.interact(slice_idx=slice_slider, diff_idx=diff_slider)\n",
    "def interact_plots(slice_idx, diff_idx):\n",
    "\n",
    "    fig, ax = plt.subplots(2, 2, figsize=(8, 8))\n",
    "\n",
    "    # slice_idx = 61 # good\n",
    "    # diff_idx = b1000 - 2; b3000 - 118 # good\n",
    "\n",
    "    img = np.flip(DWI_JETS_NAVI[diff_idx, slice_idx, :, :], axis=(-2))\n",
    "    ax[0,0].imshow(abs(img), cmap='gray',\n",
    "                interpolation=None, vmin=0, vmax=np.amax(abs(img)))\n",
    "    ax[1,0].imshow(np.angle(img), cmap='RdBu_r',\n",
    "                interpolation=None, vmin=-np.pi, vmax=np.pi)\n",
    "\n",
    "    img = np.flip(DWI_ZS_SELF[diff_idx, slice_idx, :, :], axis=(-2))\n",
    "    ax[0,1].imshow(abs(img), cmap='gray',\n",
    "                interpolation=None, vmin=0, vmax=np.amax(abs(img)))\n",
    "    ax[1,1].imshow(np.angle(img), cmap='RdBu_r',\n",
    "                interpolation=None, vmin=-np.pi, vmax=np.pi)\n",
    "    plt.show()"
   ]
  },
  {
   "cell_type": "markdown",
   "metadata": {},
   "source": [
    "### coronal"
   ]
  },
  {
   "cell_type": "code",
   "execution_count": 7,
   "metadata": {},
   "outputs": [
    {
     "data": {
      "application/vnd.jupyter.widget-view+json": {
       "model_id": "486e1e77d4254f8db0715894ccc356ad",
       "version_major": 2,
       "version_minor": 0
      },
      "text/plain": [
       "interactive(children=(IntSlider(value=0, description='slice_idx', max=199), IntSlider(value=0, description='di…"
      ]
     },
     "metadata": {},
     "output_type": "display_data"
    }
   ],
   "source": [
    "slice_slider = widgets.IntSlider(min=0, max=DWI_ZS_SELF.shape[-2] - 1, step=1, value=0)\n",
    "\n",
    "diff_slider = widgets.IntSlider(min=0, max=DWI_ZS_SELF.shape[-4] - 1, step=1, value=0)\n",
    "\n",
    "@widgets.interact(slice_idx=slice_slider, diff_idx=diff_slider)\n",
    "def interact_plots(slice_idx, diff_idx):\n",
    "    fig, ax = plt.subplots(1, 2, figsize=(8, 4))\n",
    "\n",
    "    # slice_idx = 124  # good\n",
    "    # diff_idx = 11  # good\n",
    "\n",
    "    img = np.flip(abs(DWI_JETS_NAVI[N_diff_all - diff_idx -1, :, slice_idx, :]), axis=(-2))\n",
    "    ax[0].imshow(img, cmap='gray',\n",
    "                interpolation=None, vmin=0, vmax=np.amax(img)*0.5)\n",
    "\n",
    "    img = np.flip(abs(DWI_ZS_SELF[N_diff_prt - diff_idx -1, :, slice_idx, :]), axis=(-2))\n",
    "    ax[1].imshow(img, cmap='gray',\n",
    "                interpolation=None, vmin=0, vmax=np.amax(img)*0.5)\n",
    "    plt.show()"
   ]
  },
  {
   "cell_type": "markdown",
   "metadata": {},
   "source": [
    "### sagittal"
   ]
  },
  {
   "cell_type": "code",
   "execution_count": 8,
   "metadata": {},
   "outputs": [
    {
     "data": {
      "application/vnd.jupyter.widget-view+json": {
       "model_id": "2b7078d8443746139afbb016f987393b",
       "version_major": 2,
       "version_minor": 0
      },
      "text/plain": [
       "interactive(children=(IntSlider(value=0, description='slice_idx', max=199), IntSlider(value=0, description='di…"
      ]
     },
     "metadata": {},
     "output_type": "display_data"
    }
   ],
   "source": [
    "slice_slider = widgets.IntSlider(min=0, max=DWI_ZS_SELF.shape[-1] - 1, step=1, value=0)\n",
    "\n",
    "diff_slider = widgets.IntSlider(min=0, max=DWI_ZS_SELF.shape[-4] - 1, step=1, value=0)\n",
    "\n",
    "@widgets.interact(slice_idx=slice_slider, diff_idx=diff_slider)\n",
    "def interact_plots(slice_idx, diff_idx):\n",
    "\n",
    "    fig, ax = plt.subplots(1, 2, figsize=(8, 4))\n",
    "\n",
    "    # slice_idx = 150 # good\n",
    "    # diff_idx = 11 # good\n",
    "\n",
    "    img = np.flip(abs(DWI_JETS_NAVI[N_diff_all - diff_idx -1, :, :, slice_idx]), axis=(-2))\n",
    "    ax[0].imshow(img, cmap='gray',\n",
    "                interpolation=None, vmin=0, vmax=np.amax(img)*0.6)\n",
    "\n",
    "    img = np.flip(abs(DWI_ZS_SELF[N_diff_prt - diff_idx -1, :, :, slice_idx]), axis=(-2))\n",
    "    ax[1].imshow(img, cmap='gray',\n",
    "                interpolation=None, vmin=0, vmax=np.amax(img)*0.6)\n",
    "    plt.show()"
   ]
  },
  {
   "cell_type": "markdown",
   "metadata": {},
   "source": [
    "### axial"
   ]
  },
  {
   "cell_type": "code",
   "execution_count": 10,
   "metadata": {},
   "outputs": [
    {
     "data": {
      "application/vnd.jupyter.widget-view+json": {
       "model_id": "30d84e9eb8314adc8d1b81389495c30c",
       "version_major": 2,
       "version_minor": 0
      },
      "text/plain": [
       "interactive(children=(IntSlider(value=0, description='slice_idx', max=113), IntSlider(value=0, description='di…"
      ]
     },
     "metadata": {},
     "output_type": "display_data"
    }
   ],
   "source": [
    "slice_slider = widgets.IntSlider(min=0, max=DWI_ZS_SELF.shape[-3] - 1, step=1, value=0)\n",
    "\n",
    "diff_slider = widgets.IntSlider(min=0, max=DWI_ZS_SELF.shape[-4] - 1, step=1, value=0)\n",
    "\n",
    "@widgets.interact(slice_idx=slice_slider, diff_idx=diff_slider)\n",
    "def interact_plots(slice_idx, diff_idx):\n",
    "\n",
    "    fig, ax = plt.subplots(1, 2, figsize=(8, 4))\n",
    "\n",
    "    # slice_idx = 88 # good\n",
    "    # diff_idx = 7 # good\n",
    "\n",
    "    img = np.flip(abs(DWI_JETS_NAVI[N_diff_all - diff_idx -1, slice_idx, :, :]), axis=(-2))\n",
    "    ax[0].imshow(img, cmap='gray',\n",
    "                interpolation=None, vmin=0, vmax=np.amax(img))\n",
    "\n",
    "    img = np.flip(abs(DWI_ZS_SELF[N_diff_prt - diff_idx -1, slice_idx, :, :]), axis=(-2))\n",
    "    ax[1].imshow(img, cmap='gray',\n",
    "                interpolation=None, vmin=0, vmax=np.amax(img))\n",
    "    plt.show()"
   ]
  }
 ],
 "metadata": {
  "kernelspec": {
   "display_name": "deepdwi",
   "language": "python",
   "name": "python3"
  },
  "language_info": {
   "codemirror_mode": {
    "name": "ipython",
    "version": 3
   },
   "file_extension": ".py",
   "mimetype": "text/x-python",
   "name": "python",
   "nbconvert_exporter": "python",
   "pygments_lexer": "ipython3",
   "version": "3.10.13"
  }
 },
 "nbformat": 4,
 "nbformat_minor": 2
}
