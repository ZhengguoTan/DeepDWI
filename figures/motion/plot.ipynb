{
 "cells": [
  {
   "cell_type": "code",
   "execution_count": 1,
   "metadata": {},
   "outputs": [],
   "source": [
    "import h5py\n",
    "\n",
    "import numpy as np\n",
    "import matplotlib.pyplot as plt\n",
    "\n",
    "import ipywidgets as widgets"
   ]
  },
  {
   "cell_type": "code",
   "execution_count": 2,
   "metadata": {},
   "outputs": [
    {
     "name": "stdout",
     "output_type": "stream",
     "text": [
      "DWI_JETS_NAVI shape:  (21, 176, 286, 286)\n",
      "DWI_ZS_SELF shape:  (21, 176, 286, 286)\n"
     ]
    }
   ],
   "source": [
    "f = h5py.File('/home/atuin/b143dc/b143dc15/Experiments/2023-10-18_Terra_Diffusion_iEPI/meas_MID00124_FID00287_ep2d_diff_20dir_MB2/JETS_PHASE-NAVI-REDU.h5', 'r')\n",
    "DWI_JETS_NAVI = f['DWI'][:]\n",
    "f.close()\n",
    "\n",
    "print('DWI_JETS_NAVI shape: ', DWI_JETS_NAVI.shape)\n",
    "\n",
    "f = h5py.File('/home/atuin/b143dc/b143dc15/Experiments/2023-10-18_Terra_Diffusion_iEPI/meas_MID00124_FID00287_ep2d_diff_20dir_MB2/JETS_PHASE-IMAG-REDU.h5', 'r')\n",
    "DWI_JETS_SELF = f['DWI'][:]\n",
    "f.close()\n",
    "\n",
    "f = h5py.File('/home/atuin/b143dc/b143dc15/Softwares/DeepDWI/examples/2024-05-23_zsssl_0.7mm_21-dir_R2x2_vol1_scan1_kdat_slice_040_norm-kdat-1.0_self_ResNet2D_ResBlock-12_kernel-3_ADMM_08_lamda-0.050_Adam_lr-0.000500_MixL1L2Loss/zsssl_test_shot-retro-0.h5', 'r')\n",
    "DWI_ZS_SELF = f['DWI'][:]\n",
    "f.close()\n",
    "\n",
    "print('DWI_ZS_SELF shape: ', DWI_ZS_SELF.shape)"
   ]
  },
  {
   "cell_type": "markdown",
   "metadata": {},
   "source": [
    "### coronal"
   ]
  },
  {
   "cell_type": "code",
   "execution_count": 3,
   "metadata": {},
   "outputs": [
    {
     "data": {
      "application/vnd.jupyter.widget-view+json": {
       "model_id": "ef2eb4bfb24548329efcd9fc2206cdd8",
       "version_major": 2,
       "version_minor": 0
      },
      "text/plain": [
       "interactive(children=(IntSlider(value=0, description='slice_idx', max=285), IntSlider(value=0, description='di…"
      ]
     },
     "metadata": {},
     "output_type": "display_data"
    }
   ],
   "source": [
    "slice_slider = widgets.IntSlider(min=0, max=DWI_ZS_SELF.shape[-2] - 1, step=1, value=0)\n",
    "\n",
    "diff_slider = widgets.IntSlider(min=0, max=DWI_ZS_SELF.shape[-4] - 1, step=1, value=0)\n",
    "\n",
    "@widgets.interact(slice_idx=slice_slider, diff_idx=diff_slider)\n",
    "def interact_plots(slice_idx, diff_idx):\n",
    "    fig, ax = plt.subplots(1, 2, figsize=(8, 4))\n",
    "\n",
    "    # slice_idx = 124  # good\n",
    "    # diff_idx = 11  # good\n",
    "\n",
    "    img = np.flip(abs(DWI_JETS_NAVI[diff_idx, :, slice_idx, :]), axis=(-2))\n",
    "    ax[0].imshow(img, cmap='gray',\n",
    "                interpolation=None, vmin=0, vmax=np.amax(img)*0.3)\n",
    "\n",
    "    img = np.flip(abs(DWI_ZS_SELF[diff_idx, :, slice_idx, :]), axis=(-2))\n",
    "    ax[1].imshow(img, cmap='gray',\n",
    "                interpolation=None, vmin=0, vmax=np.amax(img)*0.3)\n",
    "    plt.show()"
   ]
  },
  {
   "cell_type": "markdown",
   "metadata": {},
   "source": [
    "### sagittal"
   ]
  },
  {
   "cell_type": "code",
   "execution_count": 4,
   "metadata": {},
   "outputs": [
    {
     "data": {
      "application/vnd.jupyter.widget-view+json": {
       "model_id": "25a5384144154d9cbdd3306c87c4a899",
       "version_major": 2,
       "version_minor": 0
      },
      "text/plain": [
       "interactive(children=(IntSlider(value=0, description='slice_idx', max=285), IntSlider(value=0, description='di…"
      ]
     },
     "metadata": {},
     "output_type": "display_data"
    }
   ],
   "source": [
    "slice_slider = widgets.IntSlider(min=0, max=DWI_ZS_SELF.shape[-1] - 1, step=1, value=0)\n",
    "\n",
    "diff_slider = widgets.IntSlider(min=0, max=DWI_ZS_SELF.shape[-4] - 1, step=1, value=0)\n",
    "\n",
    "@widgets.interact(slice_idx=slice_slider, diff_idx=diff_slider)\n",
    "def interact_plots(slice_idx, diff_idx):\n",
    "\n",
    "    fig, ax = plt.subplots(1, 2, figsize=(8, 4))\n",
    "\n",
    "    # slice_idx = 150 # good\n",
    "    # diff_idx = 11 # good\n",
    "\n",
    "    img = np.flip(abs(DWI_JETS_NAVI[diff_idx, :, :, slice_idx]), axis=(-2))\n",
    "    ax[0].imshow(img, cmap='gray',\n",
    "                interpolation=None, vmin=0, vmax=np.amax(img)*0.6)\n",
    "\n",
    "    img = np.flip(abs(DWI_ZS_SELF[diff_idx, :, :, slice_idx]), axis=(-2))\n",
    "    ax[1].imshow(img, cmap='gray',\n",
    "                interpolation=None, vmin=0, vmax=np.amax(img)*0.6)\n",
    "    plt.show()"
   ]
  },
  {
   "cell_type": "markdown",
   "metadata": {},
   "source": [
    "### axial"
   ]
  },
  {
   "cell_type": "code",
   "execution_count": 3,
   "metadata": {},
   "outputs": [
    {
     "data": {
      "application/vnd.jupyter.widget-view+json": {
       "model_id": "bd43ce4c844046858983c8041c7ced75",
       "version_major": 2,
       "version_minor": 0
      },
      "text/plain": [
       "interactive(children=(IntSlider(value=0, description='slice_idx', max=175), IntSlider(value=0, description='di…"
      ]
     },
     "metadata": {},
     "output_type": "display_data"
    }
   ],
   "source": [
    "slice_slider = widgets.IntSlider(min=0, max=DWI_ZS_SELF.shape[-3] - 1, step=1, value=0)\n",
    "\n",
    "diff_slider = widgets.IntSlider(min=0, max=DWI_ZS_SELF.shape[-4] - 1, step=1, value=0)\n",
    "\n",
    "@widgets.interact(slice_idx=slice_slider, diff_idx=diff_slider)\n",
    "def interact_plots(slice_idx, diff_idx):\n",
    "\n",
    "    fig, ax = plt.subplots(1, 3, figsize=(12, 4))\n",
    "\n",
    "    # slice_idx = 88 # good\n",
    "    # diff_idx = 7 # good\n",
    "\n",
    "    img = np.flip(abs(DWI_JETS_NAVI[diff_idx, slice_idx, :, :]), axis=(-2))\n",
    "    ax[0].imshow(img, cmap='gray',\n",
    "                interpolation=None, vmin=0, vmax=np.amax(img)*0.6)\n",
    "\n",
    "    img = np.flip(abs(DWI_JETS_SELF[diff_idx, slice_idx, :, :]), axis=(-2))\n",
    "    ax[1].imshow(img, cmap='gray',\n",
    "                interpolation=None, vmin=0, vmax=np.amax(img)*0.6)\n",
    "\n",
    "\n",
    "    img = np.flip(abs(DWI_ZS_SELF[diff_idx, slice_idx, :, :]), axis=(-2))\n",
    "    ax[2].imshow(img, cmap='gray',\n",
    "                interpolation=None, vmin=0, vmax=np.amax(img)*0.6)\n",
    "    plt.show()"
   ]
  }
 ],
 "metadata": {
  "kernelspec": {
   "display_name": "deepdwi",
   "language": "python",
   "name": "python3"
  },
  "language_info": {
   "codemirror_mode": {
    "name": "ipython",
    "version": 3
   },
   "file_extension": ".py",
   "mimetype": "text/x-python",
   "name": "python",
   "nbconvert_exporter": "python",
   "pygments_lexer": "ipython3",
   "version": "3.10.13"
  }
 },
 "nbformat": 4,
 "nbformat_minor": 2
}
