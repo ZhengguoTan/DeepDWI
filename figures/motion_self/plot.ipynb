{
 "cells": [
  {
   "cell_type": "code",
   "execution_count": 1,
   "metadata": {},
   "outputs": [],
   "source": [
    "import h5py\n",
    "\n",
    "import numpy as np\n",
    "import matplotlib.pyplot as plt\n",
    "\n",
    "import ipywidgets as widgets"
   ]
  },
  {
   "cell_type": "code",
   "execution_count": 2,
   "metadata": {},
   "outputs": [
    {
     "name": "stdout",
     "output_type": "stream",
     "text": [
      "DWI_MUSE_SELF shape:  (21, 176, 286, 286)\n",
      "DWI_ZS_SELF shape:  (21, 176, 286, 286)\n"
     ]
    }
   ],
   "source": [
    "f = h5py.File('/home/atuin/b143dc/b143dc15/Experiments/2024-06-10_Terra_Diffusion_iEPI/meas_MID00329_FID25293_ep2d_diff_ms_mddw_0_7mm_self/MUSE_PHASE-IMAG-REDU.h5', 'r')\n",
    "DWI_MUSE_SELF = f['DWI'][:]\n",
    "f.close()\n",
    "\n",
    "print('DWI_MUSE_SELF shape: ', DWI_MUSE_SELF.shape)\n",
    "\n",
    "\n",
    "f = h5py.File('/home/atuin/b143dc/b143dc15/Softwares/DeepDWI/examples/2024-06-14_zsssl_0.7mm_21-dir_R2x2_vol2_scan2_kdat_slice_040_norm-kdat-1.0_self_ResNet2D_ResBlock-12_kernel-3_ADMM_08_lamda-0.050_Adam_lr-0.000500_MixL1L2Loss/zsssl_test_shot-retro-0.h5', 'r')\n",
    "DWI_ZS_SELF = f['DWI'][:]\n",
    "f.close()\n",
    "\n",
    "print('DWI_ZS_SELF shape: ', DWI_ZS_SELF.shape)"
   ]
  },
  {
   "cell_type": "markdown",
   "metadata": {},
   "source": [
    "### coronal"
   ]
  },
  {
   "cell_type": "code",
   "execution_count": 3,
   "metadata": {},
   "outputs": [
    {
     "data": {
      "application/vnd.jupyter.widget-view+json": {
       "model_id": "2f803779fc3942459f0e9bad4269862b",
       "version_major": 2,
       "version_minor": 0
      },
      "text/plain": [
       "interactive(children=(IntSlider(value=0, description='slice_idx', max=285), IntSlider(value=0, description='di…"
      ]
     },
     "metadata": {},
     "output_type": "display_data"
    }
   ],
   "source": [
    "slice_slider = widgets.IntSlider(min=0, max=DWI_ZS_SELF.shape[-2] - 1, step=1, value=0)\n",
    "\n",
    "diff_slider = widgets.IntSlider(min=0, max=DWI_ZS_SELF.shape[-4] - 1, step=1, value=0)\n",
    "\n",
    "@widgets.interact(slice_idx=slice_slider, diff_idx=diff_slider)\n",
    "def interact_plots(slice_idx, diff_idx):\n",
    "    fig, ax = plt.subplots(1, 2, figsize=(8, 4))\n",
    "\n",
    "    # slice_idx = 124  # good\n",
    "    # diff_idx = 11  # good\n",
    "\n",
    "    img = np.flip(abs(DWI_MUSE_SELF[diff_idx, :, slice_idx, :]), axis=(-2))\n",
    "    ax[0].imshow(img, cmap='gray',\n",
    "                interpolation=None, vmin=0, vmax=np.amax(img)*0.4)\n",
    "\n",
    "    img = np.flip(abs(DWI_ZS_SELF[diff_idx, :, slice_idx, :]), axis=(-2))\n",
    "    ax[1].imshow(img, cmap='gray',\n",
    "                interpolation=None, vmin=0, vmax=np.amax(img)*0.4)\n",
    "    plt.show()"
   ]
  },
  {
   "cell_type": "markdown",
   "metadata": {},
   "source": [
    "### sagittal"
   ]
  },
  {
   "cell_type": "code",
   "execution_count": 4,
   "metadata": {},
   "outputs": [
    {
     "data": {
      "application/vnd.jupyter.widget-view+json": {
       "model_id": "0706e50fd5df4f9a922b9358afd2f8d4",
       "version_major": 2,
       "version_minor": 0
      },
      "text/plain": [
       "interactive(children=(IntSlider(value=0, description='slice_idx', max=285), IntSlider(value=0, description='di…"
      ]
     },
     "metadata": {},
     "output_type": "display_data"
    }
   ],
   "source": [
    "slice_slider = widgets.IntSlider(min=0, max=DWI_ZS_SELF.shape[-1] - 1, step=1, value=0)\n",
    "\n",
    "diff_slider = widgets.IntSlider(min=0, max=DWI_ZS_SELF.shape[-4] - 1, step=1, value=0)\n",
    "\n",
    "@widgets.interact(slice_idx=slice_slider, diff_idx=diff_slider)\n",
    "def interact_plots(slice_idx, diff_idx):\n",
    "\n",
    "    fig, ax = plt.subplots(1, 2, figsize=(8, 4))\n",
    "\n",
    "    # slice_idx = 150 # good\n",
    "    # diff_idx = 7 # good\n",
    "\n",
    "    img = np.flip(abs(DWI_MUSE_SELF[diff_idx, :, :, slice_idx]), axis=(-2))\n",
    "    ax[0].imshow(img, cmap='gray',\n",
    "                interpolation=None, vmin=0, vmax=np.amax(img)*0.4)\n",
    "\n",
    "    img = np.flip(abs(DWI_ZS_SELF[diff_idx, :, :, slice_idx]), axis=(-2))\n",
    "    ax[1].imshow(img, cmap='gray',\n",
    "                interpolation=None, vmin=0, vmax=np.amax(img)*0.4)\n",
    "    plt.show()"
   ]
  },
  {
   "cell_type": "markdown",
   "metadata": {},
   "source": [
    "### axial"
   ]
  },
  {
   "cell_type": "code",
   "execution_count": 5,
   "metadata": {},
   "outputs": [
    {
     "data": {
      "application/vnd.jupyter.widget-view+json": {
       "model_id": "73de475b03db408cb2f44ffb35c8e082",
       "version_major": 2,
       "version_minor": 0
      },
      "text/plain": [
       "interactive(children=(IntSlider(value=0, description='slice_idx', max=175), IntSlider(value=0, description='di…"
      ]
     },
     "metadata": {},
     "output_type": "display_data"
    }
   ],
   "source": [
    "slice_slider = widgets.IntSlider(min=0, max=DWI_ZS_SELF.shape[-3] - 1, step=1, value=0)\n",
    "\n",
    "diff_slider = widgets.IntSlider(min=0, max=DWI_ZS_SELF.shape[-4] - 1, step=1, value=0)\n",
    "\n",
    "@widgets.interact(slice_idx=slice_slider, diff_idx=diff_slider)\n",
    "def interact_plots(slice_idx, diff_idx):\n",
    "\n",
    "    fig, ax = plt.subplots(1, 2, figsize=(8, 4))\n",
    "\n",
    "    # slice_idx = 109 # good\n",
    "    # diff_idx = 7 # good\n",
    "\n",
    "    img = np.flip(abs(DWI_MUSE_SELF[diff_idx, slice_idx, :, :]), axis=(-2))\n",
    "    ax[0].imshow(img, cmap='gray',\n",
    "                interpolation=None, vmin=0, vmax=np.amax(img)*0.4)\n",
    "\n",
    "    img = np.flip(abs(DWI_ZS_SELF[diff_idx, slice_idx, :, :]), axis=(-2))\n",
    "    ax[1].imshow(img, cmap='gray',\n",
    "                interpolation=None, vmin=0, vmax=np.amax(img)*0.4)\n",
    "    plt.show()"
   ]
  }
 ],
 "metadata": {
  "kernelspec": {
   "display_name": "deepdwi",
   "language": "python",
   "name": "python3"
  },
  "language_info": {
   "codemirror_mode": {
    "name": "ipython",
    "version": 3
   },
   "file_extension": ".py",
   "mimetype": "text/x-python",
   "name": "python",
   "nbconvert_exporter": "python",
   "pygments_lexer": "ipython3",
   "version": "3.10.13"
  }
 },
 "nbformat": 4,
 "nbformat_minor": 2
}
